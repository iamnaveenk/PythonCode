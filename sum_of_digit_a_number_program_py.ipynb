{
  "nbformat": 4,
  "nbformat_minor": 0,
  "metadata": {
    "colab": {
      "name": "sum of digit a number program.py",
      "provenance": [],
      "collapsed_sections": [],
      "authorship_tag": "ABX9TyPnnR38NyltC4JkophOQiAE",
      "include_colab_link": true
    },
    "kernelspec": {
      "name": "python3",
      "display_name": "Python 3"
    },
    "language_info": {
      "name": "python"
    }
  },
  "cells": [
    {
      "cell_type": "markdown",
      "metadata": {
        "id": "view-in-github",
        "colab_type": "text"
      },
      "source": [
        "<a href=\"https://colab.research.google.com/github/naveenkumar1805/PythonCode/blob/main/sum_of_digit_a_number_program_py.ipynb\" target=\"_parent\"><img src=\"https://colab.research.google.com/assets/colab-badge.svg\" alt=\"Open In Colab\"/></a>"
      ]
    },
    {
      "cell_type": "code",
      "execution_count": 20,
      "metadata": {
        "colab": {
          "base_uri": "https://localhost:8080/"
        },
        "id": "6MhNW8HvGaG7",
        "outputId": "10bbec30-a5a6-4313-db11-1a84fb55cc84"
      },
      "outputs": [
        {
          "output_type": "stream",
          "name": "stdout",
          "text": [
            "enter a number:54654778\n",
            "46\n"
          ]
        }
      ],
      "source": [
        "s=int(input(\"enter a number:\"))\n",
        "n=len(str(s))\n",
        "count=0\n",
        "\n",
        "for i in range(0,n):\n",
        "\n",
        "  digit=s%10\n",
        "  count=count+digit\n",
        "  s=s//10\n",
        "print(count)\n",
        "\n",
        "\n",
        "\n",
        "\n"
      ]
    },
    {
      "cell_type": "code",
      "source": [
        "l=[10,2,22,12,3,4,15,5,44,56,90,87,90,76]\n",
        "n=len(l)\n",
        "\n",
        "i=0\n",
        "list=[]\n",
        "while i<n:\n",
        "  \n",
        "  \n",
        "  list.append(l[i])\n",
        "  i=i+3\n",
        "\n",
        "\n",
        "print(list)\n",
        "\n",
        "  "
      ],
      "metadata": {
        "colab": {
          "base_uri": "https://localhost:8080/"
        },
        "id": "6lDOTu57NxZK",
        "outputId": "1e9bc672-0260-4f98-db31-6aeb845f8d8f"
      },
      "execution_count": 45,
      "outputs": [
        {
          "output_type": "stream",
          "name": "stdout",
          "text": [
            "[10, 12, 15, 56, 90]\n"
          ]
        }
      ]
    }
  ]
}