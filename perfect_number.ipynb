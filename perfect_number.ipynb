{
  "nbformat": 4,
  "nbformat_minor": 0,
  "metadata": {
    "colab": {
      "name": "perfect_number.ipynb",
      "provenance": [],
      "collapsed_sections": [],
      "authorship_tag": "ABX9TyONQOYUwA+J3JBXc3INaDnS",
      "include_colab_link": true
    },
    "kernelspec": {
      "name": "python3",
      "display_name": "Python 3"
    },
    "language_info": {
      "name": "python"
    }
  },
  "cells": [
    {
      "cell_type": "markdown",
      "metadata": {
        "id": "view-in-github",
        "colab_type": "text"
      },
      "source": [
        "<a href=\"https://colab.research.google.com/github/naveenkumar1805/PythonCode/blob/main/perfect_number.ipynb\" target=\"_parent\"><img src=\"https://colab.research.google.com/assets/colab-badge.svg\" alt=\"Open In Colab\"/></a>"
      ]
    },
    {
      "cell_type": "code",
      "execution_count": null,
      "metadata": {
        "colab": {
          "base_uri": "https://localhost:8080/"
        },
        "id": "-6lnUBuzAuty",
        "outputId": "2cce201b-39dc-477b-aae2-88043f6e27df"
      },
      "outputs": [
        {
          "output_type": "stream",
          "name": "stdout",
          "text": [
            "enter number:12\n",
            "12 is not a perfect number\n"
          ]
        }
      ],
      "source": [
        "def perfect_number(n):\n",
        "\n",
        " sum=0\n",
        " \n",
        " for i in range(1,n):\n",
        "   if n%i==0:\n",
        "    sum= sum+i\n",
        " return sum\n",
        "num=int(input(\"enter number:\"))\n",
        "pf=perfect_number(num)\n",
        "\n",
        "\n",
        "if pf==num:\n",
        "  print(f\"{num} is perfect number\")\n",
        "else:\n",
        " print(f\"{num} is not a perfect number\")"
      ]
    },
    {
      "cell_type": "code",
      "source": [
        "def Perfect_Number(Number):\n",
        "    Sum = 0\n",
        "    for i in range(1, Number):\n",
        "        if(Number % i == 0):\n",
        "            Sum = Sum + i\n",
        "    return Sum        \n",
        "\n",
        "# Taking input from the user\n",
        "Number = int(input(\"Please Enter any number: \"))\n",
        "if (Number == Perfect_Number(Number)):\n",
        "    print(f\"{Number} is a Perfect Number\" )\n",
        "else:\n",
        "    print(f\"{Number} is not Perfect Number\" )"
      ],
      "metadata": {
        "id": "Jpg5vjJjPq8Q"
      },
      "execution_count": null,
      "outputs": []
    },
    {
      "cell_type": "code",
      "source": [
        ""
      ],
      "metadata": {
        "id": "2TQXM_iemzVU"
      },
      "execution_count": null,
      "outputs": []
    },
    {
      "cell_type": "code",
      "source": [
        "def fabonaci(n):\n",
        "\n",
        "  a=0\n",
        "  b=1\n",
        "\n",
        "  if n<0:\n",
        "    print(\" Incorrect number\")\n",
        "  elif n==0:\n",
        "    return a\n",
        "\n",
        "  elif n==1:\n",
        "    return b\n",
        "\n",
        "  else:\n",
        "    for i in range(2,n):\n",
        "      c= a+b\n",
        "      a=b\n",
        "      b=c\n",
        "    return b\n",
        "\n",
        "\n",
        "x=fabonaci(9)\n",
        "print(x)\n"
      ],
      "metadata": {
        "colab": {
          "base_uri": "https://localhost:8080/"
        },
        "id": "Uz526QrrmzX4",
        "outputId": "dfc17861-0db3-46d3-8194-49ca8deeea28"
      },
      "execution_count": null,
      "outputs": [
        {
          "output_type": "stream",
          "name": "stdout",
          "text": [
            "21\n"
          ]
        }
      ]
    },
    {
      "cell_type": "code",
      "source": [
        "\n",
        "#fabonacinusing recursion\n",
        "def fabonaci(n):\n",
        "\n",
        "  if n<=0:\n",
        "    print(\"Number is incorrect\")\n",
        "  elif n==1:\n",
        "    return  0\n",
        "\n",
        "  elif  n==2:\n",
        "    return 1\n",
        "\n",
        "  else:\n",
        "    return fabonaci(n-1)+ fabonaci(n-2)\n",
        "\n",
        "fabonaci(n=int(input(\"enter number\")))"
      ],
      "metadata": {
        "colab": {
          "base_uri": "https://localhost:8080/"
        },
        "id": "qZ5jTFtGokc5",
        "outputId": "bd566fd5-a983-45f9-8ba3-c4e1457ca256"
      },
      "execution_count": null,
      "outputs": [
        {
          "name": "stdout",
          "output_type": "stream",
          "text": [
            "enter number10\n"
          ]
        },
        {
          "output_type": "execute_result",
          "data": {
            "text/plain": [
              "34"
            ]
          },
          "metadata": {},
          "execution_count": 12
        }
      ]
    },
    {
      "cell_type": "code",
      "source": [
        "import math\n",
        "\n",
        "def perfectsquare(x):\n",
        "    s=int(math.sqrt(x))\n",
        "    return s**2==x\n",
        "\n",
        "n=int(input(\"Enter number:\"))\n",
        "res1=5*(n**2)+4\n",
        "res2=5*(n**2)-4\n",
        "\n",
        "if perfectsquare(res1) or  perfectsquare(res2):\n",
        "  print(f\"{n} is fibonaci number\")\n",
        "\n",
        "else:\n",
        " print(f\" {n} is not fibonaci number\")"
      ],
      "metadata": {
        "colab": {
          "base_uri": "https://localhost:8080/"
        },
        "id": "N0uKttR7qhvc",
        "outputId": "03d60989-3624-412e-9bf6-cbf019603a77"
      },
      "execution_count": null,
      "outputs": [
        {
          "output_type": "stream",
          "name": "stdout",
          "text": [
            "Enter number:5\n",
            "5 is fibonaci number\n"
          ]
        }
      ]
    },
    {
      "cell_type": "code",
      "source": [
        "import math\n",
        "n=5\n",
        "res1=int(math.sqrt(5*(n**2)+4))\n",
        "res2=int(math.sqrt(5*(n**2)-4))\n",
        "print(res1)\n",
        "print(res2)"
      ],
      "metadata": {
        "colab": {
          "base_uri": "https://localhost:8080/"
        },
        "id": "soapjGAlz8bM",
        "outputId": "c150ea48-a142-4966-f6b0-85e10fac1658"
      },
      "execution_count": null,
      "outputs": [
        {
          "output_type": "stream",
          "name": "stdout",
          "text": [
            "11\n",
            "11\n"
          ]
        }
      ]
    },
    {
      "cell_type": "code",
      "source": [
        "x=bool(x)\n",
        "\n",
        "type(x)\n"
      ],
      "metadata": {
        "colab": {
          "base_uri": "https://localhost:8080/"
        },
        "id": "hC8YfWdyqhxs",
        "outputId": "6018bb04-92ec-4169-8476-ac78cb04f86d"
      },
      "execution_count": null,
      "outputs": [
        {
          "output_type": "execute_result",
          "data": {
            "text/plain": [
              "bool"
            ]
          },
          "metadata": {},
          "execution_count": 19
        }
      ]
    },
    {
      "cell_type": "code",
      "source": [
        ""
      ],
      "metadata": {
        "id": "xnK55C3xoN3X"
      },
      "execution_count": null,
      "outputs": []
    },
    {
      "cell_type": "code",
      "source": [
        "c = 'g'\n",
        "# print the ASCII value of assigned character in c\n",
        "print(\"The ASCII value of '\" + c + \"' is\", ord(c))"
      ],
      "metadata": {
        "colab": {
          "base_uri": "https://localhost:8080/"
        },
        "id": "AwJD0VGfoN5K",
        "outputId": "9f004da1-47c3-4fc2-f832-5b234a58bbbe"
      },
      "execution_count": null,
      "outputs": [
        {
          "output_type": "stream",
          "name": "stdout",
          "text": [
            "The ASCII value of 'g' is 103\n"
          ]
        }
      ]
    },
    {
      "cell_type": "code",
      "source": [
        "ord(\"g\")"
      ],
      "metadata": {
        "colab": {
          "base_uri": "https://localhost:8080/"
        },
        "id": "a1kfLj_H4cAx",
        "outputId": "d03c1904-57e1-48d8-bf87-96ddf49ad035"
      },
      "execution_count": null,
      "outputs": [
        {
          "output_type": "execute_result",
          "data": {
            "text/plain": [
              "103"
            ]
          },
          "metadata": {},
          "execution_count": 38
        }
      ]
    },
    {
      "cell_type": "code",
      "source": [
        "def sum_of_cube(n):\n",
        "\n",
        "  sum=0\n",
        "\n",
        "  for i in range(1,n+1):\n",
        "    sum= sum+(i**3)\n",
        "  return sum\n",
        "\n",
        "cube=sum_of_cube(int(input(\"enter number:\")))\n",
        "print(f\" sum of cube of n natural number is : {cube}\"  )"
      ],
      "metadata": {
        "colab": {
          "base_uri": "https://localhost:8080/"
        },
        "id": "2BMXLNVi5QLw",
        "outputId": "7d80e246-10c4-402e-cbc0-475b249e8094"
      },
      "execution_count": null,
      "outputs": [
        {
          "output_type": "stream",
          "name": "stdout",
          "text": [
            "enter number:10\n",
            " sum of cube of n natural number is : 3025\n"
          ]
        }
      ]
    }
  ]
}