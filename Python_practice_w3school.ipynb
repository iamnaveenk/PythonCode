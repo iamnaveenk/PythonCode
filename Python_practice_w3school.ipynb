{
  "nbformat": 4,
  "nbformat_minor": 0,
  "metadata": {
    "colab": {
      "name": "Python practice w3school.ipynb",
      "provenance": [],
      "collapsed_sections": [],
      "authorship_tag": "ABX9TyN88irVEbfimoY/QtmU7fC8",
      "include_colab_link": true
    },
    "kernelspec": {
      "name": "python3",
      "display_name": "Python 3"
    },
    "language_info": {
      "name": "python"
    }
  },
  "cells": [
    {
      "cell_type": "markdown",
      "metadata": {
        "id": "view-in-github",
        "colab_type": "text"
      },
      "source": [
        "<a href=\"https://colab.research.google.com/github/naveenkumar1805/PythonCode/blob/main/Python_practice_w3school.ipynb\" target=\"_parent\"><img src=\"https://colab.research.google.com/assets/colab-badge.svg\" alt=\"Open In Colab\"/></a>"
      ]
    },
    {
      "cell_type": "code",
      "execution_count": 2,
      "metadata": {
        "colab": {
          "base_uri": "https://localhost:8080/"
        },
        "id": "f5EeST2RQb1X",
        "outputId": "cbaaddd3-cd33-46f7-84c4-d078c67bfc9c"
      },
      "outputs": [
        {
          "output_type": "stream",
          "name": "stdout",
          "text": [
            "Twinkle, twinkle, little star,\n",
            "\tHow I wonder what you are! \n",
            "\t\tUp above the world so high,   \t\t\n",
            "\t\tLike a diamond in the sky. \n",
            "Twinkle, twinkle, little star, \n",
            "\tHow I wonder what you are\n"
          ]
        }
      ],
      "source": [
        "#1\n",
        "print('''Twinkle, twinkle, little star,\n",
        "\tHow I wonder what you are! \n",
        "\t\tUp above the world so high,   \t\t\n",
        "\t\tLike a diamond in the sky. \n",
        "Twinkle, twinkle, little star, \n",
        "\tHow I wonder what you are''')"
      ]
    },
    {
      "cell_type": "code",
      "source": [
        "#python version\n",
        "import sys\n",
        "print(\"Python version\")\n",
        "print (sys.version)\n",
        "print(\"Version info.\")\n",
        "print (sys.version_info)"
      ],
      "metadata": {
        "colab": {
          "base_uri": "https://localhost:8080/"
        },
        "id": "VTdgZBdBQtdq",
        "outputId": "a93e61fe-1ac6-4556-fa5b-38c1bd6828e0"
      },
      "execution_count": 3,
      "outputs": [
        {
          "output_type": "stream",
          "name": "stdout",
          "text": [
            "Python version\n",
            "3.7.13 (default, Apr 24 2022, 01:04:09) \n",
            "[GCC 7.5.0]\n",
            "Version info.\n",
            "sys.version_info(major=3, minor=7, micro=13, releaselevel='final', serial=0)\n"
          ]
        }
      ]
    },
    {
      "cell_type": "code",
      "source": [
        "import sys\n",
        "print('Python version',sys.version)\n"
      ],
      "metadata": {
        "colab": {
          "base_uri": "https://localhost:8080/"
        },
        "id": "DGzgZsACRB9o",
        "outputId": "6fc25c33-81aa-4e17-efd6-6c1f847d8855"
      },
      "execution_count": 7,
      "outputs": [
        {
          "output_type": "stream",
          "name": "stdout",
          "text": [
            "Python version 3.7.13 (default, Apr 24 2022, 01:04:09) \n",
            "[GCC 7.5.0]\n"
          ]
        }
      ]
    },
    {
      "cell_type": "code",
      "source": [
        "print(\"python version info.\")\n",
        "print(sys.version_info)"
      ],
      "metadata": {
        "colab": {
          "base_uri": "https://localhost:8080/"
        },
        "id": "399FRv_JQtfV",
        "outputId": "f3d80b4c-61be-4628-f45f-ec4e71080234"
      },
      "execution_count": 9,
      "outputs": [
        {
          "output_type": "stream",
          "name": "stdout",
          "text": [
            "python version info.\n",
            "sys.version_info(major=3, minor=7, micro=13, releaselevel='final', serial=0)\n"
          ]
        }
      ]
    },
    {
      "cell_type": "code",
      "source": [
        "import platform\n",
        "print(platform.python_version())"
      ],
      "metadata": {
        "colab": {
          "base_uri": "https://localhost:8080/"
        },
        "id": "_LwJaKMzRunH",
        "outputId": "2f4771cd-7b1a-491c-ac23-bdb3f6226e99"
      },
      "execution_count": 10,
      "outputs": [
        {
          "output_type": "stream",
          "name": "stdout",
          "text": [
            "3.7.13\n"
          ]
        }
      ]
    },
    {
      "cell_type": "code",
      "source": [
        "#3. Write a Python program to display the current date and time.\n",
        "import datetime\n",
        "now=datetime.datetime.now()\n",
        "now\n",
        "\n",
        "print(\"current date and time:\")\n",
        "\n",
        "print(now.strftime(\"%Y-%M-%d %H:%M:%S\"))"
      ],
      "metadata": {
        "colab": {
          "base_uri": "https://localhost:8080/"
        },
        "id": "GR0rAlB7R-G2",
        "outputId": "e2c8ceab-628f-43e6-87fd-e956502b5ed3"
      },
      "execution_count": 21,
      "outputs": [
        {
          "output_type": "stream",
          "name": "stdout",
          "text": [
            "current date and time:\n",
            "2022-04-23 05:04:47\n"
          ]
        }
      ]
    },
    {
      "cell_type": "code",
      "source": [
        "#Write a Python program which accepts the radius of a circle from the user and compute the area\n",
        "\n",
        "def radius(r):\n",
        "\n",
        "  area= 3.14*r*r\n",
        "  return area\n",
        "\n",
        "r=float(input(\"enter number:\"))\n",
        "radius(r)\n"
      ],
      "metadata": {
        "colab": {
          "base_uri": "https://localhost:8080/"
        },
        "id": "2eIbh0wYR-Ic",
        "outputId": "43cde0a6-50d3-4e5c-80ad-2782ac79fc83"
      },
      "execution_count": 25,
      "outputs": [
        {
          "name": "stdout",
          "output_type": "stream",
          "text": [
            "enter number:10\n"
          ]
        },
        {
          "output_type": "execute_result",
          "data": {
            "text/plain": [
              "314.0"
            ]
          },
          "metadata": {},
          "execution_count": 25
        }
      ]
    },
    {
      "cell_type": "code",
      "source": [
        "from math import pi\n",
        "\n",
        "r=float(input(\"enter the radius of cricle:\"))\n",
        "\n",
        "print(\"area of circle : \" + str(r)  +  \"  is:\" + str(pi*r**2))\n",
        "\n",
        "print(f\"area of circle  : {str(r)}  is  {str(pi*r**2)}\")"
      ],
      "metadata": {
        "colab": {
          "base_uri": "https://localhost:8080/"
        },
        "id": "zibD2GcwUjek",
        "outputId": "3f156b13-a06b-41bc-aad1-4af21c2fee14"
      },
      "execution_count": 37,
      "outputs": [
        {
          "output_type": "stream",
          "name": "stdout",
          "text": [
            "enter the radius of cricle:10\n",
            "area of circle : 10.0  is:314.1592653589793\n",
            "area of circle  : 10.0  is  314.1592653589793\n"
          ]
        }
      ]
    },
    {
      "cell_type": "code",
      "source": [
        "#Write a Python program which accepts the user's first and last name and print them in reverse order with a space between them.\n",
        "\n",
        "first_name= input(\"enter name:\")\n",
        "last_name= input(\" enter last name:\")\n",
        "\n",
        "print(f\" {last_name}  {first_name}\")\n",
        "\n",
        "\n",
        "print(\" \" + last_name + \" \"+ first_name)"
      ],
      "metadata": {
        "colab": {
          "base_uri": "https://localhost:8080/"
        },
        "id": "PjdGziANXDpb",
        "outputId": "6bdb8e70-2989-4555-90c3-b0c6e513b904"
      },
      "execution_count": 42,
      "outputs": [
        {
          "output_type": "stream",
          "name": "stdout",
          "text": [
            "enter name:naveen\n",
            " enter last name:singh\n",
            " singh  naveen\n",
            " singh naveen\n"
          ]
        }
      ]
    },
    {
      "cell_type": "code",
      "source": [
        "#Write a Python program which accepts a sequence of comma-separated numbers from user and generate a list and a tuple with those numbers. Go to the editor\n",
        "\n",
        "\n",
        "a=2,3,4,5\n",
        "\n",
        "print(list(a))\n",
        "print(tuple(a))"
      ],
      "metadata": {
        "colab": {
          "base_uri": "https://localhost:8080/"
        },
        "id": "a6_15-YYXDrl",
        "outputId": "b38e521e-388e-4e97-bef7-716f7c5ddf10"
      },
      "execution_count": 45,
      "outputs": [
        {
          "output_type": "stream",
          "name": "stdout",
          "text": [
            "[2, 3, 4, 5]\n",
            "(2, 3, 4, 5)\n"
          ]
        }
      ]
    },
    {
      "cell_type": "code",
      "source": [
        "number=input(\"enter some number which have comma:\")\n",
        "list=number.split(\",\")\n",
        "\n",
        "tuple=tuple(list)\n",
        "\n",
        "print(\"list :\",list)\n",
        "print('tuple:', tuple)"
      ],
      "metadata": {
        "colab": {
          "base_uri": "https://localhost:8080/"
        },
        "id": "b2Or6nyGZGSd",
        "outputId": "ab43a7ff-aa60-40e5-81b3-89cda70cba8c"
      },
      "execution_count": 7,
      "outputs": [
        {
          "output_type": "stream",
          "name": "stdout",
          "text": [
            "enter some number which have comma:5,66,88,44\n",
            "list : ['5', '66', '88', '44']\n",
            "tuple: ('5', '66', '88', '44')\n"
          ]
        }
      ]
    },
    {
      "cell_type": "code",
      "source": [
        "#Write a Python program to accept a filename from the user and print the extension of that. Go to the editor\n",
        "\n",
        "file=input(\"enter file name with extension:  \")\n",
        "\n",
        "extension=file.split(\".\")\n",
        "\n",
        "print(f\"extensionof file is: \", repr(extension[1]))"
      ],
      "metadata": {
        "colab": {
          "base_uri": "https://localhost:8080/"
        },
        "id": "vSz7zdkQbviC",
        "outputId": "a352d77c-544c-4d07-fbab-5d144b213899"
      },
      "execution_count": 13,
      "outputs": [
        {
          "output_type": "stream",
          "name": "stdout",
          "text": [
            "enter file name with extension:  naveen.java\n",
            "extensionof file is:  'java'\n"
          ]
        }
      ]
    },
    {
      "cell_type": "code",
      "source": [
        "#Write a Python program to display the first and last colors from the following list. Go to the editor\n",
        "color_list = [\"Red\",\"Green\",\"White\" ,\"Black\"]\n",
        "\n",
        "color_list[0]\n",
        "\n",
        "\n",
        "\n",
        "print(\"%s %s\"%(color_list[0],color_list[-1]))\n",
        "print(color_list[0],color_list[-1])\n",
        "\n",
        "\n"
      ],
      "metadata": {
        "colab": {
          "base_uri": "https://localhost:8080/"
        },
        "id": "UQhDhJXReN9v",
        "outputId": "177a67ab-0620-45b4-8220-af1d1dae5f4b"
      },
      "execution_count": 21,
      "outputs": [
        {
          "output_type": "stream",
          "name": "stdout",
          "text": [
            "Red Black\n",
            "Red Black\n"
          ]
        }
      ]
    },
    {
      "cell_type": "code",
      "source": [
        "# Write a Python program to display the examination schedule. (extract the date from exam_st_date). Go to the editor\n",
        "\n",
        "exam_st_date = (11, 12, 2014)\n",
        "print(\" Exam start from : %i/%i/%i \" %exam_st_date)\n"
      ],
      "metadata": {
        "colab": {
          "base_uri": "https://localhost:8080/"
        },
        "id": "RY5u5VDSeN_q",
        "outputId": "ae3a4906-2dab-4787-cc0b-3c16b880c0d2"
      },
      "execution_count": 24,
      "outputs": [
        {
          "output_type": "stream",
          "name": "stdout",
          "text": [
            " Exam start from : 11/12/2014 \n"
          ]
        }
      ]
    },
    {
      "cell_type": "code",
      "source": [
        "#Write a Python program that accepts an integer (n) and computes the value of n+nn+nnn\n",
        "\n",
        "n1=int(input(\"Enter number: \"))\n",
        "\n",
        "n2= int(n1*10+n1 )\n",
        "\n",
        "print(n2)\n",
        "n3=n1*100+n2\n",
        "print(n3)\n",
        "\n",
        "sum= n1+n2+n3\n",
        "\n",
        "print(sum)"
      ],
      "metadata": {
        "colab": {
          "base_uri": "https://localhost:8080/"
        },
        "id": "5123Naa-bvj9",
        "outputId": "b32d231e-4a24-4027-90a8-33e1449030ba"
      },
      "execution_count": 31,
      "outputs": [
        {
          "output_type": "stream",
          "name": "stdout",
          "text": [
            "Enter number: 5\n",
            "55\n",
            "555\n",
            "615\n"
          ]
        }
      ]
    }
  ]
}